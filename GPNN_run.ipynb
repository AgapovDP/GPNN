{
  "nbformat": 4,
  "nbformat_minor": 0,
  "metadata": {
    "colab": {
      "provenance": [],
      "authorship_tag": "ABX9TyNGK8+tqNQ9Z3Q+sGh9C2sk",
      "include_colab_link": true
    },
    "kernelspec": {
      "name": "python3",
      "display_name": "Python 3"
    },
    "language_info": {
      "name": "python"
    }
  },
  "cells": [
    {
      "cell_type": "markdown",
      "metadata": {
        "id": "view-in-github",
        "colab_type": "text"
      },
      "source": [
        "<a href=\"https://colab.research.google.com/github/AgapovDP/GPNN/blob/main/GPNN_run.ipynb\" target=\"_parent\"><img src=\"https://colab.research.google.com/assets/colab-badge.svg\" alt=\"Open In Colab\"/></a>"
      ]
    },
    {
      "cell_type": "code",
      "execution_count": 1,
      "metadata": {
        "colab": {
          "base_uri": "https://localhost:8080/"
        },
        "id": "7tGZNL7v0tzS",
        "outputId": "357b1637-4e03-4a2a-ddd7-50d94bbab6bc"
      },
      "outputs": [
        {
          "output_type": "stream",
          "name": "stdout",
          "text": [
            "Cloning into 'GPNN'...\n",
            "remote: Enumerating objects: 59, done.\u001b[K\n",
            "remote: Counting objects: 100% (53/53), done.\u001b[K\n",
            "remote: Compressing objects: 100% (36/36), done.\u001b[K\n",
            "remote: Total 59 (delta 20), reused 40 (delta 15), pack-reused 6\u001b[K\n",
            "Unpacking objects: 100% (59/59), 50.30 MiB | 8.55 MiB/s, done.\n"
          ]
        }
      ],
      "source": [
        "!git clone https://github.com/AgapovDP/GPNN.git"
      ]
    },
    {
      "cell_type": "code",
      "source": [
        "import torch\n",
        "from GPNN.GPNN import GPNN_v1\n"
      ],
      "metadata": {
        "id": "LztppBYw07Si"
      },
      "execution_count": 2,
      "outputs": []
    },
    {
      "cell_type": "code",
      "source": [
        "loadedModel = GPNN_v1()\n",
        "loadedModel.load_state_dict(torch.load('/content/GPNN/Example/TrainedGPNN_openDataset',map_location=torch.device('cpu')))\n",
        "loadedModel.eval()\n",
        "loadedModel.float()"
      ],
      "metadata": {
        "id": "9TdMealG9KJ-"
      },
      "execution_count": null,
      "outputs": []
    },
    {
      "cell_type": "code",
      "source": [
        "loadedModel(\"YOUR DATA\", mod = 'NoTrain')"
      ],
      "metadata": {
        "id": "aKcNCaxr-B2P"
      },
      "execution_count": null,
      "outputs": []
    },
    {
      "cell_type": "code",
      "source": [],
      "metadata": {
        "id": "wZXm6Tj7-obx"
      },
      "execution_count": null,
      "outputs": []
    }
  ]
}