{
  "nbformat": 4,
  "nbformat_minor": 0,
  "metadata": {
    "colab": {
      "provenance": [],
      "authorship_tag": "ABX9TyNGV8vTgDhk2SjUnzLsRcaL",
      "include_colab_link": true
    },
    "kernelspec": {
      "name": "python3",
      "display_name": "Python 3"
    },
    "language_info": {
      "name": "python"
    }
  },
  "cells": [
    {
      "cell_type": "markdown",
      "metadata": {
        "id": "view-in-github",
        "colab_type": "text"
      },
      "source": [
        "<a href=\"https://colab.research.google.com/github/AgapovDP/GPNN/blob/main/GPNN_run.ipynb\" target=\"_parent\"><img src=\"https://colab.research.google.com/assets/colab-badge.svg\" alt=\"Open In Colab\"/></a>"
      ]
    },
    {
      "cell_type": "markdown",
      "source": [
        "#Test img"
      ],
      "metadata": {
        "id": "wFDyAJO90sCS"
      }
    },
    {
      "cell_type": "code",
      "execution_count": 1,
      "metadata": {
        "colab": {
          "base_uri": "https://localhost:8080/"
        },
        "id": "7tGZNL7v0tzS",
        "outputId": "9dfb9fff-ae1d-479a-ac08-92e801674a7b"
      },
      "outputs": [
        {
          "output_type": "stream",
          "name": "stdout",
          "text": [
            "fatal: destination path 'GPNN' already exists and is not an empty directory.\n"
          ]
        }
      ],
      "source": [
        "!git clone https://github.com/AgapovDP/GPNN.git"
      ]
    },
    {
      "cell_type": "code",
      "source": [
        "\n",
        "from GPNN.GPNN import GPNN_v1\n",
        "import numpy as np\n",
        "import random\n",
        "import matplotlib.pyplot as plt\n",
        "from torch import nn,manual_seed,from_numpy, split, tensor\n",
        "import torch.optim as optim\n",
        "import torch\n",
        "import time\n",
        "import os\n",
        "from torch.utils.data import Dataset\n",
        "from torch.utils.data import DataLoader\n",
        "from tqdm import tqdm\n",
        "import torch.nn.functional as F\n",
        "import matplotlib"
      ],
      "metadata": {
        "id": "LztppBYw07Si"
      },
      "execution_count": 2,
      "outputs": []
    },
    {
      "cell_type": "code",
      "source": [
        "from google.colab import drive\n",
        "drive.mount('/content/gdrive')"
      ],
      "metadata": {
        "colab": {
          "base_uri": "https://localhost:8080/"
        },
        "id": "-jWU4O57Zn7J",
        "outputId": "8e7cc2f0-0705-4f78-dd8d-787c634def43"
      },
      "execution_count": 3,
      "outputs": [
        {
          "output_type": "stream",
          "name": "stdout",
          "text": [
            "Drive already mounted at /content/gdrive; to attempt to forcibly remount, call drive.mount(\"/content/gdrive\", force_remount=True).\n"
          ]
        }
      ]
    },
    {
      "cell_type": "code",
      "source": [
        "DataNPY = np.load(\"/content/gdrive/MyDrive/Data_art_NN/Datasets/OpenDataset_10k_noNoise.npy\",allow_pickle=True)"
      ],
      "metadata": {
        "id": "ACf43fm5Zk-4"
      },
      "execution_count": 4,
      "outputs": []
    },
    {
      "cell_type": "code",
      "source": [
        "loadedModel = GPNN_v1()\n",
        "loadedModel.load_state_dict(torch.load('/content/GPNN/Example/TrainedGPNN_openDataset',map_location=torch.device('cpu')))\n",
        "loadedModel.eval()\n",
        "loadedModel.float()"
      ],
      "metadata": {
        "id": "9TdMealG9KJ-",
        "colab": {
          "base_uri": "https://localhost:8080/"
        },
        "outputId": "883c62a2-c927-4e3a-f317-149542694d97"
      },
      "execution_count": 5,
      "outputs": [
        {
          "output_type": "execute_result",
          "data": {
            "text/plain": [
              "GPNN_v1(\n",
              "  (embedding_stack): Sequential(\n",
              "    (0): Linear(in_features=5, out_features=200, bias=False)\n",
              "    (1): BatchNorm1d(200, eps=1e-05, momentum=0.1, affine=True, track_running_stats=True)\n",
              "    (2): ReLU()\n",
              "    (3): Linear(in_features=200, out_features=2000, bias=False)\n",
              "    (4): BatchNorm1d(2000, eps=1e-05, momentum=0.1, affine=True, track_running_stats=True)\n",
              "    (5): ReLU()\n",
              "    (6): Linear(in_features=2000, out_features=4000, bias=False)\n",
              "    (7): BatchNorm1d(4000, eps=1e-05, momentum=0.1, affine=True, track_running_stats=True)\n",
              "    (8): ReLU()\n",
              "    (9): Linear(in_features=4000, out_features=700, bias=False)\n",
              "    (10): BatchNorm1d(700, eps=1e-05, momentum=0.1, affine=True, track_running_stats=True)\n",
              "    (11): ReLU()\n",
              "  )\n",
              "  (regression_stack): Sequential(\n",
              "    (0): Linear(in_features=700, out_features=1500, bias=False)\n",
              "    (1): BatchNorm1d(1500, eps=1e-05, momentum=0.1, affine=True, track_running_stats=True)\n",
              "    (2): ReLU()\n",
              "    (3): Linear(in_features=1500, out_features=700, bias=False)\n",
              "    (4): BatchNorm1d(700, eps=1e-05, momentum=0.1, affine=True, track_running_stats=True)\n",
              "    (5): ReLU()\n",
              "  )\n",
              "  (classifierLAA): Sequential(\n",
              "    (0): Linear(in_features=700, out_features=70, bias=False)\n",
              "    (1): BatchNorm1d(70, eps=1e-05, momentum=0.1, affine=True, track_running_stats=True)\n",
              "    (2): ReLU()\n",
              "    (3): Linear(in_features=70, out_features=1, bias=True)\n",
              "    (4): Sigmoid()\n",
              "  )\n",
              "  (classifierLPA): Sequential(\n",
              "    (0): Linear(in_features=700, out_features=70, bias=False)\n",
              "    (1): BatchNorm1d(70, eps=1e-05, momentum=0.1, affine=True, track_running_stats=True)\n",
              "    (2): ReLU()\n",
              "    (3): Linear(in_features=70, out_features=1, bias=True)\n",
              "    (4): Sigmoid()\n",
              "  )\n",
              "  (classifierCAA): Sequential(\n",
              "    (0): Linear(in_features=700, out_features=70, bias=False)\n",
              "    (1): BatchNorm1d(70, eps=1e-05, momentum=0.1, affine=True, track_running_stats=True)\n",
              "    (2): ReLU()\n",
              "    (3): Linear(in_features=70, out_features=1, bias=True)\n",
              "    (4): Sigmoid()\n",
              "  )\n",
              "  (classifierCPA): Sequential(\n",
              "    (0): Linear(in_features=700, out_features=70, bias=False)\n",
              "    (1): BatchNorm1d(70, eps=1e-05, momentum=0.1, affine=True, track_running_stats=True)\n",
              "    (2): ReLU()\n",
              "    (3): Linear(in_features=70, out_features=1, bias=True)\n",
              "    (4): Sigmoid()\n",
              "  )\n",
              "  (regressionP): Sequential(\n",
              "    (0): Linear(in_features=700, out_features=70, bias=False)\n",
              "    (1): BatchNorm1d(70, eps=1e-05, momentum=0.1, affine=True, track_running_stats=True)\n",
              "    (2): ReLU()\n",
              "    (3): Linear(in_features=70, out_features=1, bias=True)\n",
              "  )\n",
              "  (regressionTheta): Sequential(\n",
              "    (0): Linear(in_features=700, out_features=70, bias=False)\n",
              "    (1): BatchNorm1d(70, eps=1e-05, momentum=0.1, affine=True, track_running_stats=True)\n",
              "    (2): ReLU()\n",
              "    (3): Linear(in_features=70, out_features=1, bias=True)\n",
              "  )\n",
              "  (regressionDelta): Sequential(\n",
              "    (0): Linear(in_features=700, out_features=70, bias=False)\n",
              "    (1): BatchNorm1d(70, eps=1e-05, momentum=0.1, affine=True, track_running_stats=True)\n",
              "    (2): ReLU()\n",
              "    (3): Linear(in_features=70, out_features=1, bias=True)\n",
              "  )\n",
              "  (regressionPhi): Sequential(\n",
              "    (0): Linear(in_features=700, out_features=70, bias=False)\n",
              "    (1): BatchNorm1d(70, eps=1e-05, momentum=0.1, affine=True, track_running_stats=True)\n",
              "    (2): ReLU()\n",
              "    (3): Linear(in_features=70, out_features=1, bias=True)\n",
              "  )\n",
              "  (regressionCAA): Sequential(\n",
              "    (0): Linear(in_features=700, out_features=70, bias=False)\n",
              "    (1): BatchNorm1d(70, eps=1e-05, momentum=0.1, affine=True, track_running_stats=True)\n",
              "    (2): ReLU()\n",
              "    (3): Linear(in_features=70, out_features=1, bias=True)\n",
              "  )\n",
              "  (regressionCPA): Sequential(\n",
              "    (0): Linear(in_features=700, out_features=70, bias=False)\n",
              "    (1): BatchNorm1d(70, eps=1e-05, momentum=0.1, affine=True, track_running_stats=True)\n",
              "    (2): ReLU()\n",
              "    (3): Linear(in_features=70, out_features=1, bias=True)\n",
              "  )\n",
              ")"
            ]
          },
          "metadata": {},
          "execution_count": 5
        }
      ]
    },
    {
      "cell_type": "code",
      "source": [
        "class GPDataset(Dataset):\n",
        "    def __init__(self, GPdata):\n",
        "      self.nanToken = 10.\n",
        "      self.GPdata = []\n",
        "      for obj in tqdm(GPdata):\n",
        "        self.GPdata.append((tensor(obj[0]),tensor(obj[1]),tensor(obj[2])))\n",
        "\n",
        "    def __len__(self):\n",
        "      return len(self.GPdata)\n",
        "\n",
        "    def __getitem__(self, idx):\n",
        "      return self.GPdata[idx][0],self.GPdata[idx][1],self.GPdata[idx][2]\n"
      ],
      "metadata": {
        "id": "AAEAs4jCa5z4"
      },
      "execution_count": 6,
      "outputs": []
    },
    {
      "cell_type": "code",
      "source": [
        "lenTestData = 5000\n",
        "lenTrainData = 5000\n",
        "batch_size = 500\n",
        "\n",
        "testDatasets = GPDataset(DataNPY[:lenTestData])\n",
        "trainDatasets = GPDataset(DataNPY[lenTestData:lenTestData+lenTrainData])\n",
        "\n",
        "testDataloader = DataLoader(testDatasets, batch_size=batch_size, shuffle=False, num_workers=2)\n",
        "trainDataloader = DataLoader(trainDatasets, batch_size=batch_size, shuffle=True, num_workers=2)"
      ],
      "metadata": {
        "colab": {
          "base_uri": "https://localhost:8080/"
        },
        "id": "XmnUnRxpbBdR",
        "outputId": "6268cff3-ac6f-411e-a1c2-f4dbb12586e6"
      },
      "execution_count": 7,
      "outputs": [
        {
          "output_type": "stream",
          "name": "stderr",
          "text": [
            "100%|██████████| 5000/5000 [00:00<00:00, 10483.04it/s]\n",
            "100%|██████████| 5000/5000 [00:00<00:00, 22726.16it/s]\n"
          ]
        }
      ]
    },
    {
      "cell_type": "code",
      "source": [
        "localData = next(iter(trainDataloader))\n",
        "obj = localData[0][0:64]"
      ],
      "metadata": {
        "id": "pNsAuECxfBNn"
      },
      "execution_count": 8,
      "outputs": []
    },
    {
      "cell_type": "code",
      "source": [
        "oneDimg = []\n",
        "resultGPNN = loadedModel(obj, mod = 'classifier')\n",
        "for step in range(64):\n",
        "  if resultGPNN[0].reshape(-1).detach().round()[step] == 1 and resultGPNN[1].reshape(-1).detach().round()[step] == 0 \\\n",
        "    and resultGPNN[2].reshape(-1).detach().round()[step] == 0 and resultGPNN[3].reshape(-1).detach().round()[step] == 0:\n",
        "    oneDimg.append(1)\n",
        "  elif resultGPNN[0].reshape(-1).detach().round()[step] == 0 and resultGPNN[1].reshape(-1).detach().round()[step] == 1 \\\n",
        "    and resultGPNN[2].reshape(-1).detach().round()[step] == 0 and resultGPNN[3].reshape(-1).detach().round()[step] == 0:\n",
        "    oneDimg.append(2)\n",
        "  elif resultGPNN[0].reshape(-1).detach().round()[step] == 0 and resultGPNN[1].reshape(-1).detach().round()[step] == 0 \\\n",
        "    and resultGPNN[2].reshape(-1).detach().round()[step] == 1 and resultGPNN[3].reshape(-1).detach().round()[step] == 0:\n",
        "    oneDimg.append(3)\n",
        "  elif resultGPNN[0].reshape(-1).detach().round()[step] == 0 and resultGPNN[1].reshape(-1).detach().round()[step] == 0 \\\n",
        "    and resultGPNN[2].reshape(-1).detach().round()[step] == 0 and resultGPNN[3].reshape(-1).detach().round()[step] == 1:\n",
        "    oneDimg.append(4)\n",
        "  else:\n",
        "    oneDimg.append(5)\n",
        "\n",
        "\n",
        "\n",
        "\n"
      ],
      "metadata": {
        "id": "2Baem0lDe3_a"
      },
      "execution_count": 9,
      "outputs": []
    },
    {
      "cell_type": "code",
      "source": [
        "oneDimg_base = []\n",
        "vhod = localData[1][0:64].T\n",
        "for step in range(64):\n",
        "  if vhod[0].reshape(-1).detach().round()[step] == 1 and vhod[1].reshape(-1).detach().round()[step] == 0 \\\n",
        "    and vhod[2].reshape(-1).detach().round()[step] == 0 and vhod[3].reshape(-1).detach().round()[step] == 0:\n",
        "    oneDimg_base.append(1)\n",
        "  elif vhod[0].reshape(-1).detach().round()[step] == 0 and vhod[1].reshape(-1).detach().round()[step] == 1 \\\n",
        "    and vhod[2].reshape(-1).detach().round()[step] == 0 and vhod[3].reshape(-1).detach().round()[step] == 0:\n",
        "    oneDimg_base.append(2)\n",
        "  elif vhod[0].reshape(-1).detach().round()[step] == 0 and vhod[1].reshape(-1).detach().round()[step] == 0 \\\n",
        "    and vhod[2].reshape(-1).detach().round()[step] == 1 and vhod[3].reshape(-1).detach().round()[step] == 0:\n",
        "    oneDimg_base.append(3)\n",
        "  elif vhod[0].reshape(-1).detach().round()[step] == 0 and vhod[1].reshape(-1).detach().round()[step] == 0 \\\n",
        "    and vhod[2].reshape(-1).detach().round()[step] == 0 and vhod[3].reshape(-1).detach().round()[step] == 1:\n",
        "    oneDimg_base.append(4)\n",
        "  else:\n",
        "    oneDimg_base.append(5)"
      ],
      "metadata": {
        "id": "FDuWxhO9tXia"
      },
      "execution_count": 10,
      "outputs": []
    },
    {
      "cell_type": "code",
      "source": [
        "\n",
        "n=8\n",
        "m=8\n",
        "c=0\n",
        "B=[[0]*m for i in range (n)]\n",
        "for i in range (n):\n",
        "         for j in range (m):\n",
        "                B[i][j]=oneDimg[c]\n",
        "                c+=1\n"
      ],
      "metadata": {
        "id": "8sI0YP3-aqvP",
        "colab": {
          "base_uri": "https://localhost:8080/"
        },
        "outputId": "5cb292ce-5c83-4ceb-fbd2-111dd7c1143f"
      },
      "execution_count": 11,
      "outputs": [
        {
          "output_type": "execute_result",
          "data": {
            "text/plain": [
              "[[3, 1, 3, 4, 1, 2, 2, 2],\n",
              " [4, 5, 3, 4, 3, 1, 2, 3],\n",
              " [4, 3, 4, 5, 2, 2, 3, 3],\n",
              " [4, 3, 2, 4, 4, 3, 1, 2],\n",
              " [1, 2, 1, 3, 2, 4, 4, 2],\n",
              " [3, 3, 4, 2, 4, 2, 1, 2],\n",
              " [1, 4, 3, 4, 4, 1, 1, 2],\n",
              " [3, 4, 4, 3, 3, 4, 4, 5]]"
            ]
          },
          "metadata": {},
          "execution_count": 11
        }
      ]
    },
    {
      "cell_type": "code",
      "source": [
        "n=8\n",
        "m=8\n",
        "c=0\n",
        "B_vhod=[[0]*m for i in range (n)]\n",
        "for i in range (n):\n",
        "         for j in range (m):\n",
        "                B_vhod[i][j]=oneDimg_base[c]\n",
        "                c+=1"
      ],
      "metadata": {
        "id": "zz8ktYct3kk0"
      },
      "execution_count": 12,
      "outputs": []
    },
    {
      "cell_type": "code",
      "source": [
        "np.random.seed(123)\n",
        "vals = np.random.randint(10, size=(7, 7))\n",
        "plt.pcolor(B, cmap=plt.get_cmap('Pastel1',5), )\n",
        "plt.colorbar(ticks=[1,2,3,4,5])"
      ],
      "metadata": {
        "colab": {
          "base_uri": "https://localhost:8080/",
          "height": 450
        },
        "id": "6SUkkMs_2JXl",
        "outputId": "72358d33-e8a2-4ca1-d35b-042efb5d91ac"
      },
      "execution_count": 13,
      "outputs": [
        {
          "output_type": "execute_result",
          "data": {
            "text/plain": [
              "<matplotlib.colorbar.Colorbar at 0x790d473f85e0>"
            ]
          },
          "metadata": {},
          "execution_count": 13
        },
        {
          "output_type": "display_data",
          "data": {
            "text/plain": [
              "<Figure size 640x480 with 2 Axes>"
            ],
            "image/png": "[encoded data removed]"
          },
          "metadata": {}
        }
      ]
    },
    {
      "cell_type": "code",
      "source": [
        "np.random.seed(123)\n",
        "vals = np.random.randint(10, size=(7, 7))\n",
        "plt.pcolor(B_vhod, cmap=plt.get_cmap('Pastel1',5), )\n",
        "plt.colorbar()\n",
        "plt.clim(1, 5)"
      ],
      "metadata": {
        "colab": {
          "base_uri": "https://localhost:8080/",
          "height": 434
        },
        "id": "HioZJif72Ol8",
        "outputId": "f61da7ad-eb7a-4188-88a6-9fd544ac671b"
      },
      "execution_count": 14,
      "outputs": [
        {
          "output_type": "display_data",
          "data": {
            "text/plain": [
              "<Figure size 640x480 with 2 Axes>"
            ],
            "image/png": "[encoded data removed]"
          },
          "metadata": {}
        }
      ]
    }
  ]
}